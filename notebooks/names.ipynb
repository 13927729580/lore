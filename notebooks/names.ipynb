{
 "cells": [
  {
   "cell_type": "code",
   "execution_count": null,
   "metadata": {},
   "outputs": [],
   "source": [
    "%%javascript\n",
    "var command = \"nb_name = '\" + IPython.notebook.notebook_path + \"'; nb_name = nb_name.split('/')[-1]\";\n",
    "IPython.notebook.kernel.execute(command);"
   ]
  },
  {
   "cell_type": "code",
   "execution_count": null,
   "metadata": {},
   "outputs": [],
   "source": [
    "import requests\n",
    "import datetime\n",
    "from lxml import etree\n",
    "import csv\n",
    "import lore\n",
    "import os\n",
    "import pandas\n",
    "lore_dir = os.path.join(os.path.dirname(nb_name), '..')\n",
    "os.chdir(lore_dir)"
   ]
  },
  {
   "cell_type": "markdown",
   "metadata": {},
   "source": [
    "Download popular names from social security administration"
   ]
  },
  {
   "cell_type": "code",
   "execution_count": null,
   "metadata": {
    "collapsed": true
   },
   "outputs": [],
   "source": [
    "url = 'https://www.ssa.gov/cgi-bin/popularnames.cgi'\n",
    "first_available = 1880\n",
    "most_recent = datetime.datetime.now().year - 1\n",
    "\n",
    "\n",
    "dir = os.path.join(lore.env.data_dir, 'usa_names')\n",
    "if not os.path.exists(dir):\n",
    "    os.makedirs(dir)\n",
    "\n",
    "years = {}\n",
    "for year in range(first_available, most_recent + 1):\n",
    "    path = os.path.join(dir, str(year) + '.csv')\n",
    "    if not os.path.exists(path):\n",
    "        response = requests.post(url, data={'year': year, 'top': 1000, 'number': 'n'})\n",
    "        html = response.text\n",
    "        tree = etree.HTML(html)\n",
    "        with open(path, 'w') as file:\n",
    "            writer = csv.writer(file)\n",
    "            writer.writerow(['rank', 'male_name', 'male_count', 'female_name', 'female_count'])\n",
    "            for row in tree.xpath('body/table[2]/tr/td[2]/table/tr'):\n",
    "                tds = row.xpath('td')\n",
    "                if tds:\n",
    "                    writer.writerow([td.text.replace(',', '') for td in tds if td.text])\n",
    "    years[year] = pandas.DataFrame.from_csv(path)\n"
   ]
  },
  {
   "cell_type": "code",
   "execution_count": null,
   "metadata": {},
   "outputs": [],
   "source": [
    "url = 'https://www.ssa.gov/oact/STATS/table4c6.html'\n",
    "response = requests.get(url)\n",
    "html = response.text\n",
    "tree = etree.HTML(html)\n",
    "path = os.path.join(lore.env.data_dir, 'actuary.csv')\n",
    "tree.xpath('//*[@id=\"content\"]/div/div[2]/div/table[1]/tbody/tr[2]/td/table/tbody/tr')"
   ]
  },
  {
   "cell_type": "code",
   "execution_count": null,
   "metadata": {},
   "outputs": [],
   "source": []
  },
  {
   "cell_type": "markdown",
   "metadata": {},
   "source": [
    "Get life expectancy by sex"
   ]
  },
  {
   "cell_type": "code",
   "execution_count": null,
   "metadata": {
    "collapsed": true
   },
   "outputs": [],
   "source": [
    "url = 'https://www.ssa.gov/oact/STATS/table4c6.html'\n",
    "response = requests.get(url)\n",
    "html = response.text\n",
    "tree = etree.HTML(html)\n",
    "path = os.path.join(lore.env.data_data, 'actuary.csv')\n",
    "with open(path, 'w') as file:\n",
    "    writer = csv.writer(file)\n",
    "    writer.writerow(['age','male death probability','male lives','male life expectancy','female death probability','female lives','female life expectency'\n",
    "])\n",
    "    for row in tree.xpath('//*[@id=\"content\"]/div/div[2]/div/table[1]/tbody/tr[2]/td/table/tbody/tr'):\n",
    "        tds = row.xpath('td')\n",
    "        if tds:\n",
    "            writer.writerow([td.text.replace(',', '') for td in tds if td.text])\n",
    "    \n",
    "\n",
    "actuary = pandas.DataFrame.from_csv(os.path.join(lore.env.data_dir, 'actuarial', 'table.csv'))\n",
    "male_deaths = actuary['male death probability'].apply(lambda x: 1-x).cumprod()\n",
    "female_deaths = actuary['female death probability'].apply(lambda x: 1-x).cumprod()"
   ]
  },
  {
   "cell_type": "code",
   "execution_count": null,
   "metadata": {
    "collapsed": true
   },
   "outputs": [],
   "source": [
    "year_data = {}\n",
    "for year in years:\n",
    "    path = os.path.join(dir, str(year) + '.csv')\n",
    "    year_data[year] = pandas.DataFrame.from_csv(path)"
   ]
  },
  {
   "cell_type": "code",
   "execution_count": null,
   "metadata": {
    "collapsed": true
   },
   "outputs": [],
   "source": [
    "from datetime import date, timedelta\n",
    "from collections import defaultdict\n",
    "this_year = date(date.today().year, 1, 1)\n",
    "year_delta = timedelta(days=365.24)\n",
    "name_years = defaultdict(lambda: defaultdict(dict))\n",
    "living_name_years = defaultdict(lambda: defaultdict(dict))\n",
    "\n",
    "for year, data in year_data.items():\n",
    "    age = (this_year - date(year, 1, 1)) // year_delta\n",
    "    for row in data.itertuples():\n",
    "        name_years[row[1]][year]['male'] = row[2]\n",
    "        name_years[row[3]][year]['female'] = row[4]\n",
    "        if age < 120:\n",
    "            living_name_years[row[1]][year]['male'] = row[2] * male_deaths.iat[age]\n",
    "            living_name_years[row[3]][year]['female'] = row[4] * female_deaths.iat[age]\n",
    "        else:\n",
    "            living_name_years[row[1]][year]['male'] = 0\n",
    "            living_name_years[row[3]][year]['female'] = 0"
   ]
  },
  {
   "cell_type": "code",
   "execution_count": null,
   "metadata": {},
   "outputs": [],
   "source": [
    "name_stats = defaultdict(lambda: {'total': 0, 'male': 0, 'female': 0, 'mean_age': 0})\n",
    "for name in name_years:\n",
    "    stats = name_stats[name]\n",
    "    for year, sexes in living_name_years[name].items():\n",
    "        age = (this_year - date(year, 1, 1)) / year_delta\n",
    "        male = sexes.get('male', 0)\n",
    "        female = sexes.get('female', 0)\n",
    "        stats['male'] += male\n",
    "        stats['female'] += female\n",
    "        stats['total'] += (male + female)\n",
    "        stats['mean_age'] += (male + female) * age\n",
    "    if stats['total'] > 0:\n",
    "        stats['mean_age'] = stats['mean_age'] / stats['total']    \n",
    "        stats['sex'] = stats['male'] / stats['total']\n",
    "    else:\n",
    "        stats['mean_age'] = stats['sex'] = 0\n",
    "    name_stats[name] = stats\n",
    "name_stats['Piper'] "
   ]
  },
  {
   "cell_type": "code",
   "execution_count": null,
   "metadata": {
    "collapsed": true
   },
   "outputs": [],
   "source": [
    "from matplotlib import pyplot\n",
    "from matplotlib.patches import Patch\n",
    "\n",
    "def plot_sexes(name):\n",
    "    years = range(first_available, most_recent + 1)\n",
    "    males = [float(name_years[name][year].get('male', 0)) for year in years]\n",
    "    females = [float(name_years[name][year].get('female', 0)) for year in years]\n",
    "    living_males = [float(living_name_years[name][year].get('male', 0)) for year in years]\n",
    "    living_females = [float(living_name_years[name][year].get('female', 0)) for year in years]\n",
    "    pyplot.figure(dpi=200)\n",
    "    pyplot.plot(years, males, label=\"male\", color='#ADD8E6')\n",
    "    pyplot.plot(years, females, label=\"female\", color='#FFC0CB')\n",
    "    pyplot.plot(years, living_males, label=\"living male\", color='#6666FF')\n",
    "    pyplot.plot(years, living_females, label=\"living female\", color='#FF6666')\n",
    "    pyplot.axvline(x=(year - name_stats[name]['mean_age']), label=('mean age: %3.1f' % name_stats[name]['mean_age']), color='green')\n",
    "    pyplot.plot()\n",
    "    pyplot.xlabel('year')\n",
    "    pyplot.ylabel('births')\n",
    "    pyplot.title('Babies Named ' + name)\n",
    "    pyplot.grid(True)\n",
    "    pyplot.legend(loc='best')\n",
    "    pyplot.show()"
   ]
  },
  {
   "cell_type": "code",
   "execution_count": null,
   "metadata": {},
   "outputs": [],
   "source": [
    "plot_sexes('Montana')"
   ]
  },
  {
   "cell_type": "code",
   "execution_count": null,
   "metadata": {},
   "outputs": [],
   "source": [
    "plot_sexes('Natalie')"
   ]
  },
  {
   "cell_type": "code",
   "execution_count": null,
   "metadata": {},
   "outputs": [],
   "source": [
    "plot_sexes('Josh')"
   ]
  },
  {
   "cell_type": "code",
   "execution_count": null,
   "metadata": {
    "collapsed": true
   },
   "outputs": [],
   "source": [
    "with open(os.path.join(dir, 'names.csv'), 'w') as file:\n",
    "    writer = csv.writer(file)\n",
    "    writer.writerow(('name', 'male', 'mean_age', 'sample_size'))\n",
    "    for name, stats in name_stats.items():\n",
    "        if (stats['male'] + stats['female']) > 0:\n",
    "            writer.writerow((name.lower(), stats['male'] / (stats['male'] + stats['female']), stats['mean_age'], stats['total']))\n"
   ]
  },
  {
   "cell_type": "code",
   "execution_count": null,
   "metadata": {},
   "outputs": [],
   "source": [
    "with open(os.path.join(dir, 'names.csv'), 'r') as file:\n",
    "    reader = csv.reader(file)\n",
    "    for line in reader:\n",
    "        print(line)\n"
   ]
  },
  {
   "cell_type": "code",
   "execution_count": null,
   "metadata": {
    "collapsed": true
   },
   "outputs": [],
   "source": []
  }
 ],
 "metadata": {
  "kernelspec": {
   "display_name": "referrals",
   "language": "python",
   "name": "referrals"
  },
  "language_info": {
   "codemirror_mode": {
    "name": "ipython",
    "version": 3
   },
   "file_extension": ".py",
   "mimetype": "text/x-python",
   "name": "python",
   "nbconvert_exporter": "python",
   "pygments_lexer": "ipython3",
   "version": "3.6.2"
  }
 },
 "nbformat": 4,
 "nbformat_minor": 2
}
